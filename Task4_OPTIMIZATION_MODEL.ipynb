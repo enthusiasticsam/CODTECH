{
  "nbformat": 4,
  "nbformat_minor": 0,
  "metadata": {
    "colab": {
      "provenance": []
    },
    "kernelspec": {
      "name": "python3",
      "display_name": "Python 3"
    },
    "language_info": {
      "name": "python"
    }
  },
  "cells": [
    {
      "cell_type": "code",
      "source": [
        "# Install PuLP if not installed\n",
        "!pip install pulp\n",
        "\n",
        "# Import PuLP\n",
        "from pulp import LpMaximize, LpProblem, LpVariable, value\n",
        "\n",
        "# Define the problem\n",
        "model = LpProblem(name=\"profit_maximization\", sense=LpMaximize)\n",
        "\n",
        "# Decision variables (how many units of A & B to produce)\n",
        "A = LpVariable(name=\"Product_A\", lowBound=0, cat=\"Integer\")\n",
        "B = LpVariable(name=\"Product_B\", lowBound=0, cat=\"Integer\")\n",
        "\n",
        "# Objective function: Maximize profit\n",
        "model += 40 * A + 30 * B, \"Total Profit\"\n",
        "\n",
        "# Constraints\n",
        "model += 4 * A + 3 * B <= 100, \"Material Constraint\"\n",
        "model += 2 * A + 4 * B <= 80, \"Labor Constraint\"\n",
        "\n",
        "# Solve the problem\n",
        "model.solve()\n",
        "\n",
        "# Print the results\n",
        "print(\"Optimal Production Plan:\")\n",
        "print(f\"  - Product A: {A.varValue} units\")\n",
        "print(f\"  - Product B: {B.varValue} units\")\n",
        "print(f\"  - Maximum Profit: ${value(model.objective)}\")\n"
      ],
      "metadata": {
        "colab": {
          "base_uri": "https://localhost:8080/"
        },
        "id": "JG1WYvVleBAL",
        "outputId": "90ed79bd-c741-49af-cdaa-7febf2a16672"
      },
      "execution_count": null,
      "outputs": [
        {
          "output_type": "stream",
          "name": "stdout",
          "text": [
            "Collecting pulp\n",
            "  Downloading PuLP-3.0.2-py3-none-any.whl.metadata (6.7 kB)\n",
            "Downloading PuLP-3.0.2-py3-none-any.whl (17.7 MB)\n",
            "\u001b[2K   \u001b[90m━━━━━━━━━━━━━━━━━━━━━━━━━━━━━━━━━━━━━━━━\u001b[0m \u001b[32m17.7/17.7 MB\u001b[0m \u001b[31m14.0 MB/s\u001b[0m eta \u001b[36m0:00:00\u001b[0m\n",
            "\u001b[?25hInstalling collected packages: pulp\n",
            "Successfully installed pulp-3.0.2\n",
            "Optimal Production Plan:\n",
            "  - Product A: 16.0 units\n",
            "  - Product B: 12.0 units\n",
            "  - Maximum Profit: $1000.0\n"
          ]
        }
      ]
    }
  ]
}